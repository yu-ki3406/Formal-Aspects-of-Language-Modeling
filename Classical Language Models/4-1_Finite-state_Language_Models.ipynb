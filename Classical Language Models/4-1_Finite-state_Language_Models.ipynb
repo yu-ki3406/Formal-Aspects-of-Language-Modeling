{
 "cells": [
  {
   "cell_type": "markdown",
   "metadata": {},
   "source": [
    "**Finite-state Language Models**\n",
    "---\n",
    "\n",
    "この章ではFinite-state Language Models (n-gram) について解説する。\n",
    "\n",
    "Informalな有限言語モデルの定義は以下のようになる。\n",
    "\n",
    "# ![](https://i.gyazo.com/e34806b22f737861411bbfba0e6216b0.png)\n",
    "\n",
    "条件になっている直前までの状態**y**は高々有限ですよってこと。\n",
    "\n",
    "\n",
    "**4.1.1 Weighted Finite-state オートマン**\n",
    "\n",
    "有限状態オートマンを理解すると、TransformerとかRNNへの展望がよく見えるようになるので、説明するらしい。\n",
    "\n",
    "# ![](https://i.gyazo.com/cdca3ab24d25d6a74a20f4bb754853eb.png)\n",
    "\n",
    "報酬関数ないけど、MDPみたい (absorbingありの？)。\n",
    "\n",
    "遷移先が複数定義されているのであれば、それを同時に探索みたいに、その状態にうつる。そして遷移先が1つしかないものだと決定論的オートマンになるらしい。\n",
    "\n",
    "あるオートマンから作られる言語は以下のように定義できる。\n",
    "\n",
    "# ![](https://i.gyazo.com/93fd52d2b7f35df961448d0b56b0eab1.png)\n",
    "\n",
    "ある言語$L$が有限オートマンで表現できるのなら、その言語$L$はRegular Languageともいうらしい。\n",
    "\n",
    "\n",
    "非決定論的オートマンと、決定論的オートマンの例↓\n",
    "\n",
    "# ![](https://i.gyazo.com/06df738c8434b67abe6e362315a811a2.png)\n",
    "\n",
    "---\n",
    "\n",
    "**Weighted Finite-state Automata**\n",
    "\n",
    "上の例だと遷移先への重みが毎回1だったけど、今回は{0,1}だけではないものを考えよう。\n",
    "\n",
    "その例 (重みの合計の制約とかはないぽい？)↓\n",
    "\n",
    "# ![](https://i.gyazo.com/98763139bd2e5ecfbff9d6c962f50ab8.png)\n"
   ]
  }
 ],
 "metadata": {
  "language_info": {
   "name": "python"
  }
 },
 "nbformat": 4,
 "nbformat_minor": 2
}
