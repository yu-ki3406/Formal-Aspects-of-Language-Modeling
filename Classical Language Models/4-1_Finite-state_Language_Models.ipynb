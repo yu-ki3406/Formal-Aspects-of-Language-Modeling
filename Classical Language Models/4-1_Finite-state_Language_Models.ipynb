{
 "cells": [
  {
   "cell_type": "markdown",
   "metadata": {},
   "source": [
    "**Finite-state Language Models**\n",
    "---\n",
    "\n",
    "この章ではFinite-state Language Models (n-gram) について解説する。\n",
    "\n",
    "Informalな有限言語モデルの定義は以下のようになる。\n",
    "\n",
    "# ![](https://i.gyazo.com/e34806b22f737861411bbfba0e6216b0.png)\n",
    "\n",
    "条件になっている直前までの状態**y**は高々有限ですよってこと。\n",
    "\n",
    "\n",
    "**4.1.1 Weighted Finite-state オートマン**\n",
    "\n",
    "有限状態オートマンを理解すると、TransformerとかRNNへの展望がよく見えるようになるので、説明するらしい。\n",
    "\n",
    "# ![](https://i.gyazo.com/cdca3ab24d25d6a74a20f4bb754853eb.png)\n",
    "\n",
    "報酬関数ないけど、MDPみたい (absorbingありの？)。\n",
    "\n",
    "遷移先が複数定義されているのであれば、それを同時に探索みたいに、その状態にうつる。そして遷移先が1つしかないものだと決定論的オートマンになるらしい。\n",
    "\n",
    "あるオートマンから作られる言語は以下のように定義できる。\n",
    "\n",
    "# ![](https://i.gyazo.com/93fd52d2b7f35df961448d0b56b0eab1.png)\n",
    "\n",
    "ある言語$L$が有限オートマンで表現できるのなら、その言語$L$はRegular Languageともいうらしい。\n",
    "\n",
    "\n",
    "非決定論的オートマンと、決定論的オートマンの例↓\n",
    "\n",
    "# ![](https://i.gyazo.com/06df738c8434b67abe6e362315a811a2.png)\n",
    "\n",
    "---\n",
    "\n",
    "**Weighted Finite-state Automata**\n",
    "\n",
    "上の例だと遷移先への重みが毎回1だったけど、今回は{0,1}だけではないものを考えよう。\n",
    "\n",
    "その例 (重みの合計の制約とかはないぽい？)↓\n",
    "\n",
    "# ![](https://i.gyazo.com/98763139bd2e5ecfbff9d6c962f50ab8.png)\n"
   ]
  },
  {
   "cell_type": "markdown",
   "metadata": {},
   "source": [
    "上で確認したように、遷移するにはある重みが付随することがわかった、ここで、文字列を作るまでにどのくらいの重みを使っているのか、その積で確認するのが次の定義。\n",
    "\n",
    "# ![](https://i.gyazo.com/958d03d51ee67a291037de60af3a81cd.png)\n",
    "\n",
    "次に、ある文字列を作る際にその過程においてのすべての重みのsumをStringsumというらしい。つまり、上の定義で、sum over $\\pi$をする操作。\n",
    "\n",
    "# ![](https://i.gyazo.com/88515cfc3b94677a4473dd94cb58eb2c.png)\n",
    "\n",
    "そして次は、オートマンから作られるすべての文字列の経路の重みの合計を表す、上の定義にさらに、sum over **y**をする操作。\n",
    "\n",
    "# ![](https://i.gyazo.com/157bc83c9850dda3fcf772e11581499a.png)"
   ]
  },
  {
   "cell_type": "markdown",
   "metadata": {},
   "source": [
    "今まで遷移の重みの合計の制約などはなかったけど、次に紹介するオートマンは文字列を作る際の重みの合計を1となるようなものです、強化学習の遷移確率に似てきた？\n",
    "\n",
    "# ![](https://i.gyazo.com/2c362f9119138568c1ebd0ca0d0aba7a.png)\n",
    "\n",
    "# ![](https://i.gyazo.com/1ab498ec27bde46c6c8b3c026c373ff4.png)"
   ]
  }
 ],
 "metadata": {
  "language_info": {
   "name": "python"
  }
 },
 "nbformat": 4,
 "nbformat_minor": 2
}
