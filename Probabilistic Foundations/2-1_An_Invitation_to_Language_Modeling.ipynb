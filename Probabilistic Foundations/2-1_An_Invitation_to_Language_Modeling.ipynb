{
 "cells": [
  {
   "cell_type": "markdown",
   "metadata": {},
   "source": [
    "**An Invitation to Language Modeling**\n",
    "---\n"
   ]
  },
  {
   "cell_type": "markdown",
   "metadata": {},
   "source": [
    "まず、最初に言語モデルのinformalな定義を次に述べて、その定義がどのように私たちの望む基準 (予想で多様性とか？)を満たさないのかも説明する。\n"
   ]
  },
  {
   "cell_type": "markdown",
   "metadata": {},
   "source": [
    "# ![](https://i.gyazo.com/a3f74d9b816a98f0d34e609d30cbcd85.png)\n",
    "\n",
    "\n",
    "要約 - 文章から次にどんな文字列 or {EOS} が来るかを予測する確率分布の定義をしている。\n",
    "\n",
    "上の定義は多くの論文などで暗黙的に仮定されているらしく、言語モデルは次のような数式でかける。\n",
    "\n",
    "$$\n",
    "p(\\boldsymbol{y})=p\\left(y_1 \\cdots y_T\\right)=p(\\operatorname{EOS} \\mid \\boldsymbol{y}) \\prod_{t=1}^T p\\left(y_t \\mid \\boldsymbol{y}_{<t}\\right)\n",
    "$$\n",
    "\n",
    "上の確率の定義で、$p$が確率分布とするなら、どの空間上の分布かを考えるべき。\n",
    "\n",
    "定義では$\\Sigma^*$上 (有限)の分布だけど、{EOS}をいつか吐き出すような仮定などを入れないと、確率にはなっていないよね (無限に文字列を出しちゃう)という主張。\n",
    "\n",
    "---\n",
    "\n",
    "**例**\n",
    "\n",
    "コイントスを考えて、{T,H}は等しく出るとする、それは{EOS}が出るまで無限回続くとする。 次のような問題設定の時、上の定義における言語モデルは破綻してしまう。\n",
    "\n",
    "$$\n",
    "\\begin{aligned}\n",
    "p\\left(\\mathrm{H} \\mid \\boldsymbol{y}_{<1}\\right)=p\\left(\\mathrm{~T} \\mid \\boldsymbol{y}_{<1}\\right) & =\\frac{1}{2} \\\\\n",
    "p\\left(\\mathrm{H} \\mid \\boldsymbol{y}_{<t}\\right) & = \\begin{cases}1 & \\text { if } t>1 \\text { and } y_{t-1}=\\mathrm{H} \\\\\n",
    "0 & \\text { if } t>1 \\text { and } y_{t-1}=\\mathrm{T}\\end{cases} \\\\\n",
    "p\\left(\\mathrm{~T} \\mid \\boldsymbol{y}_{<t}\\right) & = \\begin{cases}\\frac{1}{2} & \\text { if } t>1 \\text { and } y_{t-1}=\\mathrm{T} \\\\\n",
    "0 & \\text { if } t>1 \\text { and } y_{t-1}=\\mathrm{H}\\end{cases} \\\\\n",
    "p\\left(\\mathrm{EOS} \\mid \\boldsymbol{y}_{<t}\\right) & = \\begin{cases}\\frac{1}{2} & \\text { if } t>1 \\text { and } y_{t-1}=\\mathrm{T} \\\\\n",
    "0 & \\text { otherwise. }\\end{cases}\n",
    "\\end{aligned}\n",
    "$$\n",
    "\n",
    "最初にH出たら、{EOS}出ないので、無限列になって、破綻。\n"
   ]
  }
 ],
 "metadata": {
  "kernelspec": {
   "display_name": "divergence-R",
   "language": "python",
   "name": "python3"
  },
  "language_info": {
   "codemirror_mode": {
    "name": "ipython",
    "version": 3
   },
   "file_extension": ".py",
   "mimetype": "text/x-python",
   "name": "python",
   "nbconvert_exporter": "python",
   "pygments_lexer": "ipython3",
   "version": "3.10.14"
  }
 },
 "nbformat": 4,
 "nbformat_minor": 2
}
