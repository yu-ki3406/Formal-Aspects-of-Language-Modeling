{
 "cells": [
  {
   "cell_type": "markdown",
   "metadata": {},
   "source": [
    "**Language Models: Distributions over Strings**\n",
    "---\n",
    "\n",
    "この章では言語モデルの正式な定義と、無限集合上での分布の定義の複雑さについて述べていく。\n",
    "\n",
    "最初にアルファベットと文字列の定義をする。\n",
    "\n",
    "# ![](https://i.gyazo.com/dc34c8a911f0a9a8acc43f694bb578cd.png)\n",
    "# ![](https://i.gyazo.com/ee00483535204bbac7aa66d3bdf4adfd.png)\n",
    "\n",
    "要するに、alphabetの集合の定義と$\\Sigma$ の文字だけを $T$ 個並べた有限列を **y** と書き、その要素も必ず集合に入っているよということ。\n",
    "\n",
    "---\n",
    "\n",
    "長さ0 (空文字)は$\\epsilon$(文字列の連結では単位元みたいなもの、1かけるみたいな)とする。\n",
    "\n",
    "文字列**x**と**y**を連結した文字列は$y \\circ x=y x$で表す。\n",
    "\n",
    "次に長さnでできた文字列の集合の定義、あらゆる文章が含まれているような集合は次のように定義できる。\n",
    "\n",
    "$$\n",
    "\\begin{aligned}\n",
    "&\\Sigma^*=\\bigcup_{n=0}^{\\infty} \\Sigma^n\n",
    "\\end{aligned}\n",
    "$$\n",
    "\n",
    "where\n",
    "\n",
    "$$\n",
    "\\Sigma^n \\stackrel{\\text { def }}{=} \\underbrace{\\Sigma \\times \\cdots \\times \\Sigma}_{n \\text { 回 }}\n",
    "$$\n",
    "\n",
    "上のような定義から、私たちが日頃使っている言語というものは$\\Sigma^*$の部分集合らしい。\n",
    "\n",
    "# ![](https://i.gyazo.com/1e91369b34ae4d7fe565794ec76cc206.png)\n",
    "\n",
    "だけど、多くの研究では$L=\\Sigma^*$で進めているらしい。\n",
    "\n",
    "---\n",
    "\n",
    "prefixなどの定義、なんかよく見る$y_{<n}$みたいな$n$番目までの文字列、とその逆ばsuffixの定義。\n",
    "\n",
    "# ![](https://i.gyazo.com/62c7122e2d00b181f290d43de7128da0.png)\n",
    "\n",
    "次に、ようやく、formalな言語モデルの定義、多分前のinformalの違いは、単語ごととかじゃなくて、文章においての集合上の確率考えている。\n",
    "\n",
    "\n",
    "# ![](https://i.gyazo.com/c312fe8c67786df3ed5b50fef75f54a4.png)\n",
    "\n",
    "多分下のような考え、　\n",
    "$$\n",
    "p_{\\mathrm{LM}}: \\Sigma^* \\longrightarrow[0,1], \\quad \\sum_{\\mathbf{y} \\in \\Sigma^{*}} p_{\\mathrm{LM}}(\\mathbf{y})=1\n",
    "$$"
   ]
  },
  {
   "cell_type": "markdown",
   "metadata": {},
   "source": []
  },
  {
   "cell_type": "markdown",
   "metadata": {},
   "source": []
  }
 ],
 "metadata": {
  "language_info": {
   "name": "python"
  }
 },
 "nbformat": 4,
 "nbformat_minor": 2
}
