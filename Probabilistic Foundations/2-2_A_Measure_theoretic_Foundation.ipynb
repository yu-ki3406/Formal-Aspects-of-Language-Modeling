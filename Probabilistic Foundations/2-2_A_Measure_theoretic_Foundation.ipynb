{
 "cells": [
  {
   "cell_type": "markdown",
   "metadata": {},
   "source": [
    "**A Measure-theoretic Foundation**\n",
    "---\n",
    "\n",
    "測度論とか確率論を復習する章になるらしい、言語モデルの理論はこんな厳密なんだそう。\n",
    "\n",
    "確率空間を$(\\Omega, \\mathcal{F}, \\mathbb{P})$ とする。 適当に言ったら、ダメだと思うけど、サイコロで例えると、$\\Omega = {1,2,3,4,5,6}, \\mathcal{F} = {\\phi},{1},{1,2},{1,3},{1,4},...,{1,2,3,4,5,6}$, $\\mathbb{P}$ は$\\mathcal{F}$上で定義されている確率。 \n",
    "\n",
    "どの空間に張るかを先に決め、その空間で確率質量が 1 になるよう確率を設計するという考え。\n",
    "\n",
    "次のような定義が$\\mathcal{F}$で成り立ったら、$\\sigma$-algebraという、確率を張る空間の準備みたいなもの。どの集合上で考えるかみたいな。\n",
    "\n",
    "# ![](https://i.gyazo.com/ac20635425ee3f2fc884094e74d9cd60.png)\n",
    "\n",
    "\n",
    "次に$\\mathcal{F}$で考える確率を次のように考える、summationして1とか、互いに独立なら、変換可能とか。\n",
    "\n",
    "# ![](https://i.gyazo.com/a5b6a089471095593ee378b887d7fce8.png)"
   ]
  },
  {
   "cell_type": "markdown",
   "metadata": {},
   "source": [
    "テキストには上とは別にpre-measureの定義とかも書いてあったけど、無限列考える時に、外測度とかの考えを使うから。必要になったら、また追記します。\n",
    "\n",
    "\n"
   ]
  },
  {
   "cell_type": "markdown",
   "metadata": {},
   "source": [
    "**確率変数**\n",
    "\n",
    "例えば、ある確率空間上で考慮されている確率変数$X$があって、違う確率空間でのある事象を観測したい時、次のようにして観測可能な確率分布に適用可能にする。\n",
    "\n",
    "# ![](https://i.gyazo.com/69cd79d9cdac2e814aa2444c032635ae.png)"
   ]
  }
 ],
 "metadata": {
  "language_info": {
   "name": "python"
  }
 },
 "nbformat": 4,
 "nbformat_minor": 2
}
