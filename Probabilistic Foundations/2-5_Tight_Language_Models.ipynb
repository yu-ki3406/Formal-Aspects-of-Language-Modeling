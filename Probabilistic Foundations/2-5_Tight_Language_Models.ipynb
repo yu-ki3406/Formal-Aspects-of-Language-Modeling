{
 "cells": [
  {
   "cell_type": "markdown",
   "metadata": {},
   "source": [
    "**Tight Language Models**\n",
    "---\n",
    "\n",
    "2.4ではどんな言語モデルはlocally normalized sequence modelに変換可能なことを確認したけど、その逆は真ではない。{EOS}を吐き出さないとき、無限に飛ぶから。\n",
    "\n",
    "次の定義はlocally normalized sequence model (LNM)がtightとはどういう時かというもの。\n",
    "\n",
    "# ![](https://i.gyazo.com/25adcf73818abfd75d3507a752f99fc9.png)\n",
    "\n",
    "$p_{\\mathrm{SM}}\\left(y_t \\mid y_{<t}\\right)$はその時点での次のトークンを与える分布として正しく（＝総和が 1 に）正規化されているけど、文字列全体わたってsumすると、1にはならない場合がある。\n",
    "\n",
    "つまり各ステップで正規化されていても、言語モデルとはならない。\n",
    "\n",
    "---\n",
    "\n",
    "ここからLNMの確率測度を深掘りする。\n",
    "\n",
    "今までは有限文字列のみに焦点当ててたけど、無限文字列は実際にはどうLNMでは表現されているかを見る、つまり、無限文字列を観測できるものを構築して、逆写像みたいなもので、LNMに移してみる見たいのことをやりたい？\n",
    "\n",
    "図だと下のような形になる。\n",
    "\n",
    "\n",
    "# ![](https://i.gyazo.com/7246b0f8901e2f9bec2ad44607ce239e.png)\n",
    "\n"
   ]
  },
  {
   "cell_type": "markdown",
   "metadata": {},
   "source": [
    "---\n",
    "\n",
    "次にいくつかの定義をする。\n",
    "\n",
    "# ![](https://i.gyazo.com/39dfae5839d13d0aaf6f6afed3915dc7.png)\n",
    "\n",
    "sequence modelは{EOS}の設定をちゃんとしてないものなので、無限列も含み、上記のような形になる。\n",
    "\n",
    "# ![](https://i.gyazo.com/3e596e96e882c01b7ae2505bb36215bd.png)\n",
    "\n",
    "今ままで考えていたlanguage modelでは無限列は考えないので、上記のようになる。\n",
    "\n"
   ]
  },
  {
   "cell_type": "markdown",
   "metadata": {},
   "source": [
    "---\n",
    "\n",
    "ここから、無限列の文章をどう扱っていくのかを見ていく。\n",
    "\n",
    "**Step 1**. Define an Algeba over $\\Sigma^\\infty$ \n",
    "\n",
    "# ![](https://i.gyazo.com/0f9d8b3455578d681c898853701aae5b.png)\n",
    "\n",
    "上の定義はそれぞれの有限列(長さ k) $y$の文章に無限列$\\omega$がついているすべての集合。\n",
    "\n",
    "上の定義では有限列の長さkで固定しているけど、すべての有限列の長さを含んだCの集合を以下のように定義する。\n",
    "\n",
    "$$\n",
    "\\overline{\\mathcal{C}} \\stackrel{\\text { def }}{=} \\bigcup_{k=1}^{\\infty} \\overline{\\mathcal{C}}_k\n",
    "$$"
   ]
  },
  {
   "cell_type": "markdown",
   "metadata": {},
   "source": [
    "# ![](https://i.gyazo.com/b48d8940536b278bd15fb4946cd8019f.png)\n",
    "\n",
    "上が言いたいことは$\\overline{\\mathcal{C}}$は$\\Omega$上のalgebraであるということ、つまり、最終的なゴールは無限列でなんらかの確率を測りたい、その土台を作っているような感じ。\n",
    "\n"
   ]
  },
  {
   "cell_type": "markdown",
   "metadata": {},
   "source": [
    "---\n",
    "\n",
    "**Step 2**. Defining a premeasure over $\\overline{\\mathcal{C}} $\n",
    "\n",
    "ここから、$\\overline{\\mathcal{C}} $におけるpre-measureを確認する。\n",
    "\n",
    "$$\n",
    "\\mathbb{P}_0(\\bar{C}(\\mathcal{H})) \\stackrel{\\text { def }}{=} \\sum_{\\overline{\\boldsymbol{y}} \\in \\mathcal{H}} p_{\\mathrm{LN}}(\\overline{\\boldsymbol{y}})\n",
    "$$\n",
    "\n",
    "$$\n",
    "p_{\\mathrm{LN}}(\\overline{\\boldsymbol{y}}) \\stackrel{\\text { def }}{=} \\prod_{t=1}^T p_{\\mathrm{LN}}\\left(\\bar{y}_t \\mid \\overline{\\boldsymbol{y}}_{<t}\\right) .\n",
    "$$"
   ]
  },
  {
   "cell_type": "markdown",
   "metadata": {},
   "source": [
    "# ![](https://i.gyazo.com/ae8ea2c27e05559aadb5f04ee450115e.png)\n",
    "\n",
    "ちゃんと同じ集合であれば、確率も同じ値を持つことを上で確認。\n",
    "\n",
    "# ![](https://i.gyazo.com/96deadbfbd0de2f87efaccbb05ae0bb6.png)\n",
    "\n",
    "集合を無限に小さくしていって、ちゃんと0に収束する保証を確認して、加算可法性を証明 (pre-measureからmeasureにしたいため)。"
   ]
  },
  {
   "cell_type": "markdown",
   "metadata": {},
   "source": [
    "---\n",
    "\n",
    "**Step 3 Extending the pre-measure into a measure**"
   ]
  }
 ],
 "metadata": {
  "language_info": {
   "name": "python"
  }
 },
 "nbformat": 4,
 "nbformat_minor": 2
}
